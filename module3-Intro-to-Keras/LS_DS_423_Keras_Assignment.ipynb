{
 "cells": [
  {
   "cell_type": "markdown",
   "metadata": {
    "colab_type": "text",
    "id": "pBQsZEJmubLs"
   },
   "source": [
    "<img align=\"left\" src=\"https://lever-client-logos.s3.amazonaws.com/864372b1-534c-480e-acd5-9711f850815c-1524247202159.png\" width=200>\n",
    "<br></br>\n",
    "\n",
    "# Neural Network Framework (Keras)\n",
    "\n",
    "## *Data Science Unit 4 Sprint 2 Assignment 3*\n",
    "\n",
    "## Use the Keras Library to build a Multi-Layer Perceptron Model on the Boston Housing dataset\n",
    "\n",
    "- [X] The Boston Housing dataset comes with the Keras library so use Keras to import it into your notebook. \n",
    "- [ ] Normalize the data (all features should have roughly the same scale)\n",
    "- [X] Import the type of model and layers that you will need from Keras.\n",
    "- [X] Instantiate a model object and use `model.add()` to add layers to your model\n",
    "- [X] Since this is a regression model you will have a single output node in the final layer.\n",
    "- [X] Use activation functions that are appropriate for this task\n",
    "- [X] Compile your model\n",
    "- [X] Fit your model and report its accuracy in terms of Mean Squared Error\n",
    "- [X] Use the history object that is returned from model.fit to make graphs of the model's loss or train/validation accuracies by epoch. \n",
    "- [ ] Run this same data through a linear regression model. Which achieves higher accuracy?\n",
    "- [ ] Do a little bit of feature engineering and see how that affects your neural network model. (you will need to change your model to accept more inputs)\n",
    "- [ ] After feature engineering, which model sees a greater accuracy boost due to the new features?"
   ]
  },
  {
   "cell_type": "code",
   "execution_count": 1,
   "metadata": {
    "colab": {},
    "colab_type": "code",
    "id": "8NLTAR87uYJ-"
   },
   "outputs": [
    {
     "name": "stdout",
     "output_type": "stream",
     "text": [
      "Feature 0 range: (0.00632, 88.9762)\n",
      "  unique values: 404\n",
      "\n",
      "Feature 1 range: (0.0, 100.0)\n",
      "  unique values: 25\n",
      "\n",
      "Feature 2 range: (0.46, 27.74)\n",
      "  unique values: 71\n",
      "\n",
      "Feature 3 range: (0.0, 1.0)\n",
      "  unique values: 2\n",
      "\n",
      "Feature 4 range: (0.385, 0.871)\n",
      "  unique values: 79\n",
      "\n",
      "Feature 5 range: (3.561, 8.725)\n",
      "  unique values: 374\n",
      "\n",
      "Feature 6 range: (2.9, 100.0)\n",
      "  unique values: 296\n",
      "\n",
      "Feature 7 range: (1.1296, 10.7103)\n",
      "  unique values: 338\n",
      "\n",
      "Feature 8 range: (1.0, 24.0)\n",
      "  unique values: 9\n",
      "\n",
      "Feature 9 range: (188.0, 711.0)\n",
      "  unique values: 62\n",
      "\n",
      "Feature 10 range: (12.6, 22.0)\n",
      "  unique values: 46\n",
      "\n",
      "Feature 11 range: (0.32, 396.9)\n",
      "  unique values: 286\n",
      "\n",
      "Feature 12 range: (1.73, 37.97)\n",
      "  unique values: 371\n",
      "\n"
     ]
    }
   ],
   "source": [
    "##### Your Code Here #####\n",
    "from tensorflow.keras.datasets import boston_housing, fashion_mnist\n",
    "import pandas as pd\n",
    "\n",
    "(X_train, y_train), (X_test, y_test) = boston_housing.load_data()\n",
    "\n",
    "for i in range(len(X_train[0])):\n",
    "    print(f'Feature {i} range: {(min(X_train[:,i]), max(X_train[:,i]))}')\n",
    "    print(f'  unique values: {pd.Series(X_train[:,i]).nunique()}')\n",
    "    print()\n",
    "    "
   ]
  },
  {
   "cell_type": "code",
   "execution_count": 2,
   "metadata": {
    "scrolled": false
   },
   "outputs": [
    {
     "name": "stdout",
     "output_type": "stream",
     "text": [
      "Train on 404 samples, validate on 102 samples\n",
      "Epoch 1/50\n",
      "404/404 [==============================] - 0s 684us/sample - loss: 303.7208 - mean_absolute_error: 14.3095 - val_loss: 209.6790 - val_mean_absolute_error: 12.1112\n",
      "Epoch 2/50\n",
      "404/404 [==============================] - 0s 47us/sample - loss: 125.9246 - mean_absolute_error: 8.7055 - val_loss: 116.1984 - val_mean_absolute_error: 8.0003\n",
      "Epoch 3/50\n",
      "404/404 [==============================] - 0s 52us/sample - loss: 93.1710 - mean_absolute_error: 7.4016 - val_loss: 93.2531 - val_mean_absolute_error: 7.8600\n",
      "Epoch 4/50\n",
      "404/404 [==============================] - 0s 54us/sample - loss: 82.6483 - mean_absolute_error: 7.0487 - val_loss: 80.9367 - val_mean_absolute_error: 6.7886\n",
      "Epoch 5/50\n",
      "404/404 [==============================] - 0s 52us/sample - loss: 78.0335 - mean_absolute_error: 6.8458 - val_loss: 75.4005 - val_mean_absolute_error: 6.7389\n",
      "Epoch 6/50\n",
      "404/404 [==============================] - 0s 52us/sample - loss: 72.9487 - mean_absolute_error: 6.3781 - val_loss: 70.7835 - val_mean_absolute_error: 6.4953\n",
      "Epoch 7/50\n",
      "404/404 [==============================] - 0s 52us/sample - loss: 68.1249 - mean_absolute_error: 6.2488 - val_loss: 65.9089 - val_mean_absolute_error: 6.1731\n",
      "Epoch 8/50\n",
      "404/404 [==============================] - 0s 52us/sample - loss: 62.1291 - mean_absolute_error: 6.0920 - val_loss: 62.9349 - val_mean_absolute_error: 5.9090\n",
      "Epoch 9/50\n",
      "404/404 [==============================] - 0s 54us/sample - loss: 58.7389 - mean_absolute_error: 5.6564 - val_loss: 62.1054 - val_mean_absolute_error: 6.1289\n",
      "Epoch 10/50\n",
      "404/404 [==============================] - 0s 52us/sample - loss: 56.0495 - mean_absolute_error: 5.6023 - val_loss: 58.5744 - val_mean_absolute_error: 5.6437\n",
      "Epoch 11/50\n",
      "404/404 [==============================] - 0s 47us/sample - loss: 53.1905 - mean_absolute_error: 5.4685 - val_loss: 56.8568 - val_mean_absolute_error: 5.5256\n",
      "Epoch 12/50\n",
      "404/404 [==============================] - 0s 54us/sample - loss: 53.1464 - mean_absolute_error: 5.3943 - val_loss: 55.2032 - val_mean_absolute_error: 5.3704\n",
      "Epoch 13/50\n",
      "404/404 [==============================] - 0s 52us/sample - loss: 50.2308 - mean_absolute_error: 5.3787 - val_loss: 53.5908 - val_mean_absolute_error: 5.1239\n",
      "Epoch 14/50\n",
      "404/404 [==============================] - 0s 49us/sample - loss: 49.2476 - mean_absolute_error: 5.1404 - val_loss: 51.4394 - val_mean_absolute_error: 5.1082\n",
      "Epoch 15/50\n",
      "404/404 [==============================] - 0s 52us/sample - loss: 47.5718 - mean_absolute_error: 5.0577 - val_loss: 50.3014 - val_mean_absolute_error: 5.0976\n",
      "Epoch 16/50\n",
      "404/404 [==============================] - 0s 49us/sample - loss: 46.4261 - mean_absolute_error: 4.9309 - val_loss: 49.0516 - val_mean_absolute_error: 5.2807\n"
     ]
    }
   ],
   "source": [
    "from tensorflow.keras.models import Sequential\n",
    "from tensorflow.keras.layers import Dense, Flatten\n",
    "from tensorflow.keras.callbacks import EarlyStopping\n",
    "\n",
    "stop = EarlyStopping(monitor='val_mean_absolute_error', min_delta=0.5, patience=3)\n",
    "\n",
    "model = Sequential([\n",
    "    Flatten(),\n",
    "    Dense(13, input_dim=13, activation='relu'),\n",
    "    Dense(13, activation='relu'),\n",
    "    Dense(1)\n",
    "])\n",
    "\n",
    "model.compile(loss='mean_squared_error', optimizer='adam', metrics=['mean_absolute_error'])\n",
    "\n",
    "history = model.fit(X_train, y_train, epochs=50, \n",
    "                    validation_data=(X_test,y_test),\n",
    "                    callbacks=[stop])"
   ]
  },
  {
   "cell_type": "code",
   "execution_count": 3,
   "metadata": {},
   "outputs": [
    {
     "data": {
      "image/png": "[encoded data removed]",
      "text/plain": [
       "<Figure size 432x288 with 1 Axes>"
      ]
     },
     "metadata": {
      "needs_background": "light"
     },
     "output_type": "display_data"
    }
   ],
   "source": [
    "import matplotlib.pyplot as plt\n",
    "\n",
    "plt.plot(history.history['loss'])\n",
    "plt.plot(history.history['val_loss'])\n",
    "plt.title('Loss')\n",
    "plt.ylabel('Loss')\n",
    "plt.xlabel('Epoch')\n",
    "plt.legend(['Train', 'Test'], loc='upper right')\n",
    "plt.show()"
   ]
  },
  {
   "cell_type": "markdown",
   "metadata": {
    "colab_type": "text",
    "id": "SfcFnOONyuNm"
   },
   "source": [
    "## Use the Keras Library to build an image recognition network using the Fashion-MNIST dataset (also comes with keras)\n",
    "\n",
    "- [ ] Load and preprocess the image data similar to how we preprocessed the MNIST data in class.\n",
    "- [ ] Make sure to one-hot encode your category labels\n",
    "- [ ] The number of nodes in your output layer should equal the number of classes you want to predict for Fashion-MNIST.\n",
    "- [ ] Try different hyperparameters. What is the highest accuracy that you are able to achieve.\n",
    "- [ ] Use the history object that is returned from model.fit to make graphs of the model's loss or train/validation accuracies by epoch. \n",
    "- Remember that neural networks fall prey to randomness so you may need to run your model multiple times (or use Cross Validation) in order to tell if a change to a hyperparameter is truly producing better results."
   ]
  },
  {
   "cell_type": "code",
   "execution_count": 5,
   "metadata": {
    "colab": {},
    "colab_type": "code",
    "id": "szi6-IpuzaH1"
   },
   "outputs": [],
   "source": [
    "##### Your Code Here #####\n",
    "import numpy as np\n",
    "\n",
    "(X_train, y_train), (X_test, y_test) = fashion_mnist.load_data()\n",
    "\n",
    "temp =[]\n",
    "for i in range(len(X_train)):\n",
    "    temp.append(list(np.divide(X_train[i], 255)))\n",
    "X_train = temp\n",
    "    \n",
    "temp = []\n",
    "for i in range(len(X_test)):\n",
    "    temp.append(list(np.divide(X_test[i], 255)))\n",
    "X_test = temp"
   ]
  },
  {
   "cell_type": "code",
   "execution_count": 6,
   "metadata": {},
   "outputs": [
    {
     "data": {
      "text/plain": [
       "60000"
      ]
     },
     "execution_count": 6,
     "metadata": {},
     "output_type": "execute_result"
    }
   ],
   "source": [
    "len(X_train)"
   ]
  },
  {
   "cell_type": "code",
   "execution_count": null,
   "metadata": {},
   "outputs": [],
   "source": [
    "stop = EarlyStopping(monitor='val_accuracy', min_delta=0.01, patience=3)\n",
    "\n",
    "model = Sequential([\n",
    "    Flatten(),\n",
    "    Dense(500, input_dim=784, activation='relu'),\n",
    "    Dense(200, activation='relu'),\n",
    "    Dense(80, activation='relu'),\n",
    "    Dense(10, activation='softmax')\n",
    "])\n",
    "\n",
    "model.compile(loss='categorical_crossentropy', optimizer='adam', metrics=['accuracy'])\n",
    "\n",
    "history = model.fit(X_train, y_train, epochs=50,\n",
    "                    validation_data=(X_test,y_test),\n",
    "                    callbacks=[stop])"
   ]
  },
  {
   "cell_type": "markdown",
   "metadata": {
    "colab_type": "text",
    "id": "zv_3xNMjzdLI"
   },
   "source": [
    "## Stretch Goals:\n",
    "\n",
    "- Use Hyperparameter Tuning to make the accuracy of your models as high as possible. (error as low as possible)\n",
    "- Use Cross Validation techniques to get more consistent results with your model.\n",
    "- Use GridSearchCV to try different combinations of hyperparameters. \n",
    "- Start looking into other types of Keras layers for CNNs and RNNs maybe try and build a CNN model for fashion-MNIST to see how the results compare."
   ]
  }
 ],
 "metadata": {
  "colab": {
   "name": "LS_DS_433_Keras_Assignment.ipynb",
   "provenance": [],
   "version": "0.3.2"
  },
  "kernelspec": {
   "display_name": "Python 3",
   "language": "python",
   "name": "python3"
  },
  "language_info": {
   "codemirror_mode": {
    "name": "ipython",
    "version": 3
   },
   "file_extension": ".py",
   "mimetype": "text/x-python",
   "name": "python",
   "nbconvert_exporter": "python",
   "pygments_lexer": "ipython3",
   "version": "3.7.5"
  }
 },
 "nbformat": 4,
 "nbformat_minor": 4
}
